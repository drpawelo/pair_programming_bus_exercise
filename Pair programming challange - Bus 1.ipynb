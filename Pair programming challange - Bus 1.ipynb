{
 "cells": [
  {
   "cell_type": "markdown",
   "metadata": {},
   "source": [
    "Note: to run a cell, use Shift+Enter keyboard shortcut\n",
    "\n",
    "You can move cells with up-down arrow buttons, next to >RUN button. It's often a good idea to have the tests you're working on just under the solution, so you do not have to scroll up and down all the time."
   ]
  },
  {
   "cell_type": "code",
   "execution_count": 44,
   "metadata": {},
   "outputs": [
    {
     "name": "stdout",
     "output_type": "stream",
     "text": [
      "Bus eco has 0 passengers and 123456 petrol left\n"
     ]
    }
   ],
   "source": [
    "class Bus:\n",
    "    petrol_usage_per_mile = {'diesel':1.2, 'eco': 0.5 }\n",
    "    \n",
    "    def __init__(self, model, initial_petrol = 0):\n",
    "        self.model = model\n",
    "        self.petrol = initial_petrol\n",
    "        self.passengers = 0\n",
    "        \n",
    "    def drive_1_mile(self):\n",
    "        if self.has_petrol_to_drive_a_mile():\n",
    "            self.petrol -= self.petrol_usage_per_mile[self.model]\n",
    "            \n",
    "    def has_petrol_to_drive_a_mile(self):\n",
    "        return self.petrol >= self.petrol_usage_per_mile[self.model] \n",
    "        \n",
    "    def drive_miles(self, amount_of_miles):\n",
    "        for _ in amount_of_miles:\n",
    "            if has_petrol_to_drive_a_mile():\n",
    "                drive_1_mile()\n",
    "            else:\n",
    "                break\n",
    "                \n",
    "    def __repr__(self):\n",
    "        return f\"Bus {self.model} has {self.passengers} passengers and {self.petrol} petrol left\"\n",
    "                \n",
    "bus = Bus('eco', \"123456\")\n",
    "print(bus)"
   ]
  },
  {
   "cell_type": "code",
   "execution_count": 45,
   "metadata": {},
   "outputs": [],
   "source": [
    "# 1. Tests that already pass (note, if there is no )\n",
    "bus_eco_empty = Bus('eco')\n",
    "bus_eco_full = Bus('eco', 20)\n",
    "\n",
    "assert bus_eco_empty.petrol == 0\n",
    "assert bus_eco_full.petrol == 20"
   ]
  },
  {
   "cell_type": "code",
   "execution_count": 46,
   "metadata": {},
   "outputs": [],
   "source": [
    "# 2. can drive\n",
    "bus_eco_empty = Bus('eco')\n",
    "bus_eco_full = Bus('eco', 20)\n",
    "bus_eco_almost_empty = Bus('eco', 0.5)\n",
    "\n",
    "assert bus_eco_empty.has_petrol_to_drive_a_mile() == False\n",
    "assert bus_eco_full.has_petrol_to_drive_a_mile() == True\n",
    "assert bus_eco_almost_empty.has_petrol_to_drive_a_mile() == True"
   ]
  },
  {
   "cell_type": "code",
   "execution_count": 47,
   "metadata": {},
   "outputs": [],
   "source": [
    "# 3. can use petrol\n",
    "bus_eco_empty = Bus('eco')\n",
    "bus_eco_full = Bus('eco', 20)\n",
    "bus_eco_almost_empty = Bus('eco', 0.5)\n",
    "bus_diesel_full = Bus('diesel', 20)\n",
    "\n",
    "assert bus_eco_empty.petrol == 0\n",
    "assert bus_eco_full.petrol == 20\n",
    "assert bus_eco_almost_empty.petrol == 0.5\n",
    "assert bus_diesel_full.petrol == 20\n",
    "\n",
    "bus_eco_empty.drive_1_mile()\n",
    "bus_eco_full.drive_1_mile()\n",
    "bus_eco_almost_empty.drive_1_mile()\n",
    "bus_diesel_full.drive_1_mile()\n",
    "\n",
    "assert bus_eco_empty.petrol == 0\n",
    "assert bus_eco_full.petrol == 19.5\n",
    "assert bus_eco_almost_empty.petrol == 0\n",
    "assert bus_diesel_full.petrol == 18.8"
   ]
  },
  {
   "cell_type": "markdown",
   "metadata": {},
   "source": [
    "# And now some features for you to build"
   ]
  },
  {
   "cell_type": "code",
   "execution_count": 50,
   "metadata": {},
   "outputs": [
    {
     "ename": "AttributeError",
     "evalue": "'Bus' object has no attribute 'people_enter'",
     "output_type": "error",
     "traceback": [
      "\u001b[0;31m---------------------------------------------------------------------------\u001b[0m",
      "\u001b[0;31mAttributeError\u001b[0m                            Traceback (most recent call last)",
      "\u001b[0;32m<ipython-input-50-8e3528d0a71d>\u001b[0m in \u001b[0;36m<module>\u001b[0;34m()\u001b[0m\n\u001b[1;32m      2\u001b[0m \u001b[0mbus_eco_empty\u001b[0m \u001b[0;34m=\u001b[0m \u001b[0mBus\u001b[0m\u001b[0;34m(\u001b[0m\u001b[0;34m'eco'\u001b[0m\u001b[0;34m)\u001b[0m\u001b[0;34m\u001b[0m\u001b[0;34m\u001b[0m\u001b[0m\n\u001b[1;32m      3\u001b[0m \u001b[0;32massert\u001b[0m \u001b[0mbus_eco_empty\u001b[0m\u001b[0;34m.\u001b[0m\u001b[0mpassengers\u001b[0m \u001b[0;34m==\u001b[0m \u001b[0;36m0\u001b[0m\u001b[0;34m\u001b[0m\u001b[0;34m\u001b[0m\u001b[0m\n\u001b[0;32m----> 4\u001b[0;31m \u001b[0mbus_eco_empty\u001b[0m\u001b[0;34m.\u001b[0m\u001b[0mpeople_enter\u001b[0m\u001b[0;34m(\u001b[0m\u001b[0;36m5\u001b[0m\u001b[0;34m)\u001b[0m\u001b[0;34m\u001b[0m\u001b[0;34m\u001b[0m\u001b[0m\n\u001b[0m\u001b[1;32m      5\u001b[0m \u001b[0;32massert\u001b[0m \u001b[0mbus_eco_empty\u001b[0m\u001b[0;34m.\u001b[0m\u001b[0mpassengers\u001b[0m \u001b[0;34m==\u001b[0m \u001b[0;36m5\u001b[0m\u001b[0;34m\u001b[0m\u001b[0;34m\u001b[0m\u001b[0m\n\u001b[1;32m      6\u001b[0m \u001b[0mbus_eco_empty\u001b[0m\u001b[0;34m.\u001b[0m\u001b[0mpeople_enter\u001b[0m\u001b[0;34m(\u001b[0m\u001b[0;36m5\u001b[0m\u001b[0;34m)\u001b[0m\u001b[0;34m\u001b[0m\u001b[0;34m\u001b[0m\u001b[0m\n",
      "\u001b[0;31mAttributeError\u001b[0m: 'Bus' object has no attribute 'people_enter'"
     ]
    }
   ],
   "source": [
    "# 4. can increase number of passangers\n",
    "bus_eco_empty = Bus('eco')\n",
    "assert bus_eco_empty.passengers == 0\n",
    "bus_eco_empty.people_enter(5)\n",
    "assert bus_eco_empty.passengers == 5\n",
    "bus_eco_empty.people_enter(7)\n",
    "assert bus_eco_empty.passengers == 12\n",
    "# note, in python to get a size of a list,"
   ]
  },
  {
   "cell_type": "code",
   "execution_count": null,
   "metadata": {},
   "outputs": [],
   "source": [
    "# 5. bus has a limit of passengers \n",
    "# (let's say every bus has max 32). \n",
    "# Overflow of passangers just does not board the bus \n",
    "\n",
    "bus_eco_empty = Bus('eco')\n",
    "assert bus_eco_empty.passengers == 0\n",
    "assert bus_eco_empty.has_space() == True\n",
    "bus_eco_empty.people_enter(20)\n",
    "assert bus_eco_empty.passengers == 20\n",
    "assert bus_eco_empty.has_space() == True\n",
    "bus_eco_empty.people_enter(20)\n",
    "assert bus_eco_empty.passengers == 32\n",
    "assert bus_eco_empty.has_space() == False"
   ]
  },
  {
   "cell_type": "code",
   "execution_count": null,
   "metadata": {},
   "outputs": [],
   "source": [
    "# 6. change your code so that eco bus has limit of 32\n",
    "# but diesel has limit of 36\n",
    "\n",
    "bus_diesel_empty = Bus('diesel')\n",
    "assert bus_diesel_empty.number_of_passangers() == 0\n",
    "assert bus_diesel_empty.has_space() == True\n",
    "bus_diesel_empty.people_enter(20)\n",
    "assert bus_diesel_empty.number_of_passangers() == 20\n",
    "assert bus_diesel_empty.has_space() == True\n",
    "bus_diesel_empty.people_enter(20)\n",
    "assert bus_diesel_empty.number_of_passangers() == 36\n",
    "assert bus_diesel_empty.has_space() == False"
   ]
  },
  {
   "cell_type": "markdown",
   "metadata": {},
   "source": [
    "# Now you'll need to write your own tests (always do it first!) and then write functionality to make them succeed.\n"
   ]
  },
  {
   "cell_type": "code",
   "execution_count": 52,
   "metadata": {},
   "outputs": [
    {
     "ename": "SyntaxError",
     "evalue": "invalid syntax (<ipython-input-52-822034bf34c9>, line 1)",
     "output_type": "error",
     "traceback": [
      "\u001b[0;36m  File \u001b[0;32m\"<ipython-input-52-822034bf34c9>\"\u001b[0;36m, line \u001b[0;32m1\u001b[0m\n\u001b[0;31m    add other functionality: allow passangers to leave_bus\u001b[0m\n\u001b[0m            ^\u001b[0m\n\u001b[0;31mSyntaxError\u001b[0m\u001b[0;31m:\u001b[0m invalid syntax\n"
     ]
    }
   ],
   "source": [
    "# add other functionality: allow passangers to leave_bus\n",
    "# add driver_wallet that starts with value 0\n",
    "# for every passanger who succesfully boards, add 2.50 to the driver_wallet\n",
    "# later, make the tickets for eco bus cheaper, just 2.20\n",
    "# later increase petrol consumption by 1% per each passenger (you'll need to adjust previous tests)\n",
    "# create another class called Passanger. It has a name and wallet, starting with 10 by default\n",
    "# what if passangers was a list, and enter_bus took a list of Passanger objects, not a number?\n",
    "# can you decrease passanger wallet as they board succesfully, as you increase driver_wallet? "
   ]
  },
  {
   "cell_type": "markdown",
   "metadata": {},
   "source": [
    "# If you made it this far, you can completely freestyle. Add new functionality at will"
   ]
  },
  {
   "cell_type": "code",
   "execution_count": null,
   "metadata": {},
   "outputs": [],
   "source": [
    "#good luck"
   ]
  },
  {
   "cell_type": "code",
   "execution_count": null,
   "metadata": {},
   "outputs": [],
   "source": []
  },
  {
   "cell_type": "code",
   "execution_count": null,
   "metadata": {},
   "outputs": [],
   "source": []
  },
  {
   "cell_type": "code",
   "execution_count": null,
   "metadata": {},
   "outputs": [],
   "source": []
  },
  {
   "cell_type": "code",
   "execution_count": null,
   "metadata": {},
   "outputs": [],
   "source": []
  },
  {
   "cell_type": "code",
   "execution_count": null,
   "metadata": {},
   "outputs": [],
   "source": []
  },
  {
   "cell_type": "code",
   "execution_count": null,
   "metadata": {},
   "outputs": [],
   "source": []
  }
 ],
 "metadata": {
  "kernelspec": {
   "display_name": "Python 3",
   "language": "python",
   "name": "python3"
  },
  "language_info": {
   "codemirror_mode": {
    "name": "ipython",
    "version": 3
   },
   "file_extension": ".py",
   "mimetype": "text/x-python",
   "name": "python",
   "nbconvert_exporter": "python",
   "pygments_lexer": "ipython3",
   "version": "3.7.3"
  }
 },
 "nbformat": 4,
 "nbformat_minor": 2
}
